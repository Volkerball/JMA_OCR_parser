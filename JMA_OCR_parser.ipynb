{
 "cells": [
  {
   "cell_type": "markdown",
   "source": [
    "Downloading pdf files from JMA"
   ],
   "metadata": {
    "collapsed": false,
    "pycharm": {
     "name": "#%% md\n"
    }
   }
  },
  {
   "cell_type": "code",
   "execution_count": 10,
   "outputs": [],
   "source": [
    "import requests\n",
    "import shutil\n",
    "import os\n",
    "from datetime import datetime, timedelta\n",
    "\n",
    "# enter start/end dates here, convert to datetime object\n",
    "start_date = datetime.strptime('2021-1-19', '%Y-%m-%d')  # the latter arg defines the format of the given string\n",
    "end_date = datetime.strptime('2021-9-20', '%Y-%m-%d')\n",
    "\n",
    "# need to know how many days we need to loop over\n",
    "day_count = (end_date - start_date).days + 1\n",
    "\n",
    "# loop over days and download file\n",
    "for i in range(day_count):\n",
    "    date_str = (start_date + timedelta(i)).strftime('%y%m%d')  # convert our datetime obj into the desired string format\n",
    "    year_str = (start_date + timedelta(i)).strftime('%y')  # convert our datetime obj into the desired string format\n",
    "    month_str = (start_date + timedelta(i)).strftime('%m')  # convert our datetime obj into the desired string format\n",
    "    r = requests.get(f'https://www.data.jma.go.jp/gmd/kaiyou/data/db/wave/chart/daily/pdf/jp/{year_str}/{month_str}/{date_str}00jp.pdf', stream=True)\n",
    "    if r.status_code == 200:\n",
    "        with open(f'{date_str}hr00.pdf', 'wb') as f:\n",
    "            r.raw.decode_content = True\n",
    "            shutil.copyfileobj(r.raw, f)\n",
    "    r = requests.get(f'https://www.data.jma.go.jp/gmd/kaiyou/data/db/wave/chart/daily/pdf/jp/{year_str}/{month_str}/{date_str}12jp.pdf', stream=True)\n",
    "    if r.status_code == 200:\n",
    "        with open(f'{date_str}hr12.pdf', 'wb') as f:\n",
    "            r.raw.decode_content = True\n",
    "            shutil.copyfileobj(r.raw, f)"
   ],
   "metadata": {
    "collapsed": false,
    "pycharm": {
     "name": "#%%\n"
    }
   }
  },
  {
   "cell_type": "markdown",
   "metadata": {
    "pycharm": {
     "name": "#%% md\n"
    }
   },
   "source": [
    "Converting pdf into jpg"
   ]
  },
  {
   "cell_type": "code",
   "execution_count": 14,
   "outputs": [],
   "source": [
    "#pdf2image also requires poppler: conda install -c conda-forge poppler\n",
    "from pdf2image import convert_from_path\n",
    "\n",
    "# loop over days and download file\n",
    "for i in range(day_count):\n",
    "    date_str = (start_date + timedelta(i)).strftime('%y%m%d')  # convert our datetime obj into the desired string format\n",
    "    PDF_file = str(date_str)+\"hr00.pdf\"\n",
    "    pages = convert_from_path(PDF_file, 500)\n",
    "    # Iterate through all the pages stored above\n",
    "    for page in pages:\n",
    "        # Declaring filename for each page of PDF as JPG\n",
    "        # For each page, filename will be:\n",
    "        # PDF page 1 -> page_1.jpg\n",
    "        # PDF page 2 -> page_2.jpg\n",
    "        # PDF page 3 -> page_3.jpg\n",
    "        # ....\n",
    "        # PDF page n -> page_n.jpg\n",
    "        filename = str(date_str)+\"hr00.jpg\"\n",
    "\n",
    "        # Save the image of the page in system\n",
    "        page.save(filename, 'JPEG')\n",
    "    PDF_file2 = str(date_str)+\"hr12.pdf\"\n",
    "    pages2 = convert_from_path(PDF_file2, 500)\n",
    "    # Iterate through all the pages stored above\n",
    "    for page in pages2:\n",
    "        # Declaring filename for each page of PDF as JPG\n",
    "        # For each page, filename will be:\n",
    "        # PDF page 1 -> page_1.jpg\n",
    "        # PDF page 2 -> page_2.jpg\n",
    "        # PDF page 3 -> page_3.jpg\n",
    "        # ....\n",
    "        # PDF page n -> page_n.jpg\n",
    "        filename = str(date_str)+\"hr12.jpg\"\n",
    "\n",
    "        # Save the image of the page in system\n",
    "        page.save(filename, 'JPEG')"
   ],
   "metadata": {
    "collapsed": false,
    "pycharm": {
     "name": "#%%\n"
    }
   }
  },
  {
   "cell_type": "markdown",
   "source": [
    "Cropping JPG files into representative point \"E\""
   ],
   "metadata": {
    "collapsed": false,
    "pycharm": {
     "name": "#%% md\n"
    }
   }
  },
  {
   "cell_type": "code",
   "execution_count": 16,
   "outputs": [],
   "source": [
    "import cv2\n",
    "\n",
    "# loop over days and download file\n",
    "for i in range(day_count):\n",
    "    date_str = (start_date + timedelta(i)).strftime('%y%m%d')  # convert our datetime obj into the desired string format\n",
    "    filename = str(date_str)+\"hr00.jpg\"\n",
    "    img = cv2.imread(filename)\n",
    "    crop_img = img[1673:1750, 330:800]\n",
    "    cv2.imwrite(\"crop\"+str(date_str)+\"hr00.jpg\", crop_img)\n",
    "    filename2 = str(date_str)+\"hr12.jpg\"\n",
    "    img2 = cv2.imread(filename2)\n",
    "    crop_img2 = img2[1673:1750, 330:800]\n",
    "    cv2.imwrite(\"crop\"+str(date_str)+\"hr12.jpg\", crop_img2)"
   ],
   "metadata": {
    "collapsed": false,
    "pycharm": {
     "name": "#%%\n"
    }
   }
  },
  {
   "cell_type": "markdown",
   "source": [
    "Performing OCR with Tesseract on cropped JPG files"
   ],
   "metadata": {
    "collapsed": false,
    "pycharm": {
     "name": "#%% md\n"
    }
   }
  },
  {
   "cell_type": "code",
   "execution_count": null,
   "outputs": [],
   "source": [
    "#install pytesseract before, if you haven't: conda install -c conda-forge pytesseract\n",
    "import pytesseract\n",
    "pytesseract.pytesseract.tesseract_cmd = 'C:/Program Files/Tesseract-OCR/tesseract.exe' #Install tesseract OCR https://github.com/UB-Mannheim/tesseract/wiki and insert route to tesseract exe, if you installed it somewhere else\n",
    "\n",
    "# A text file is created and flushed\n",
    "file = open(\"results2.txt\", \"w+\")\n",
    "file.write(\"\")\n",
    "file.close()\n",
    "\n",
    "# get grayscale image\n",
    "def get_grayscale(image):\n",
    "    return cv2.cvtColor(image, cv2.COLOR_BGR2GRAY)\n",
    "\n",
    "#thresholding\n",
    "def thresholding(image):\n",
    "    return cv2.threshold(image, 0, 255, cv2.THRESH_BINARY + cv2.THRESH_OTSU)[1]\n",
    "\n",
    "# loop over days and download file\n",
    "for i in range(day_count):\n",
    "    date_str = (start_date + timedelta(i)).strftime('%y%m%d')  # convert our datetime obj into the desired string format\n",
    "    # Open the file in append mode\n",
    "    file = open(\"results2.txt\", \"a\")\n",
    "    filename = \"crop\"+str(date_str)+\"hr00.jpg\"\n",
    "    img = cv2.imread(filename)\n",
    "    # Preprocessing the image starts\n",
    "\n",
    "    gray = get_grayscale(img)\n",
    "    thresh = thresholding(gray)\n",
    "\n",
    "    # Adding custom options\n",
    "    custom_config = r'-c tessedit_char_whitelist=\"NESW1234567890 ./\" --oem 3 --psm 7'\n",
    "    text = pytesseract.image_to_string(thresh, config=custom_config)\n",
    "    # Appending the text into file\n",
    "    file.write(date_str+\"00 \"+text)\n",
    "\n",
    "    filename2 = \"crop\"+str(date_str)+\"hr12.jpg\"\n",
    "    img2 = cv2.imread(filename2)\n",
    "    gray2 = get_grayscale(img2)\n",
    "    thresh2 = thresholding(gray2)\n",
    "    text2 = pytesseract.image_to_string(thresh2, config=custom_config)\n",
    "    # Appending the text into file\n",
    "    file.write(date_str+\"12 \"+text2)\n",
    "    # Close the file\n",
    "    file.close"
   ],
   "metadata": {
    "collapsed": false,
    "pycharm": {
     "name": "#%%\n",
     "is_executing": true
    }
   }
  },
  {
   "cell_type": "markdown",
   "source": [
    "Turning cleaned txt file into csv"
   ],
   "metadata": {
    "collapsed": false,
    "pycharm": {
     "name": "#%% md\n"
    }
   }
  },
  {
   "cell_type": "code",
   "execution_count": 2,
   "outputs": [
    {
     "name": "stdout",
     "output_type": "stream",
     "text": [
      "         Date Direction Period  Height\n",
      "0    21030112       SSE      9     1.8\n",
      "1    21030200         S      8     3.3\n",
      "2    21030212         S      9     3.3\n",
      "3    21030300       NNE      8     3.5\n",
      "4    21030312       ENE      8     2.9\n",
      "..        ...       ...    ...     ...\n",
      "400  21091712         E      9     2.0\n",
      "401  21091800       SSE      7     2.7\n",
      "402  21091812         S      8     3.2\n",
      "403  21091900       ENE      7     2.9\n",
      "404  21091912        NE      7     2.7\n",
      "\n",
      "[405 rows x 4 columns]\n"
     ]
    }
   ],
   "source": [
    "import pandas as pd\n",
    "df = pd.read_csv(f'results2_cleaned.txt', delim_whitespace=True)\n",
    "df.columns=['Date', 'Direction', 'Period', 'Height']\n",
    "print(df)"
   ],
   "metadata": {
    "collapsed": false,
    "pycharm": {
     "name": "#%%\n"
    }
   }
  },
  {
   "cell_type": "code",
   "execution_count": 6,
   "outputs": [
    {
     "ename": "AttributeError",
     "evalue": "'Series' object has no attribute 'to_datetime'",
     "output_type": "error",
     "traceback": [
      "\u001B[1;31m---------------------------------------------------------------------------\u001B[0m",
      "\u001B[1;31mAttributeError\u001B[0m                            Traceback (most recent call last)",
      "\u001B[1;32m~\\AppData\\Local\\Temp/ipykernel_26948/2650414438.py\u001B[0m in \u001B[0;36m<module>\u001B[1;34m\u001B[0m\n\u001B[1;32m----> 1\u001B[1;33m \u001B[0mdf\u001B[0m\u001B[1;33m[\u001B[0m\u001B[1;34m'Date'\u001B[0m\u001B[1;33m]\u001B[0m\u001B[1;33m.\u001B[0m\u001B[0mto_datetime\u001B[0m\u001B[1;33m(\u001B[0m\u001B[1;33m)\u001B[0m\u001B[1;33m\u001B[0m\u001B[1;33m\u001B[0m\u001B[0m\n\u001B[0m\u001B[0;32m      2\u001B[0m \u001B[0mprint\u001B[0m\u001B[1;33m(\u001B[0m\u001B[0mdf\u001B[0m\u001B[1;33m)\u001B[0m\u001B[1;33m\u001B[0m\u001B[1;33m\u001B[0m\u001B[0m\n",
      "\u001B[1;32m~\\anaconda3\\envs\\earthscience\\lib\\site-packages\\pandas\\core\\generic.py\u001B[0m in \u001B[0;36m__getattr__\u001B[1;34m(self, name)\u001B[0m\n\u001B[0;32m   5485\u001B[0m         ):\n\u001B[0;32m   5486\u001B[0m             \u001B[1;32mreturn\u001B[0m \u001B[0mself\u001B[0m\u001B[1;33m[\u001B[0m\u001B[0mname\u001B[0m\u001B[1;33m]\u001B[0m\u001B[1;33m\u001B[0m\u001B[1;33m\u001B[0m\u001B[0m\n\u001B[1;32m-> 5487\u001B[1;33m         \u001B[1;32mreturn\u001B[0m \u001B[0mobject\u001B[0m\u001B[1;33m.\u001B[0m\u001B[0m__getattribute__\u001B[0m\u001B[1;33m(\u001B[0m\u001B[0mself\u001B[0m\u001B[1;33m,\u001B[0m \u001B[0mname\u001B[0m\u001B[1;33m)\u001B[0m\u001B[1;33m\u001B[0m\u001B[1;33m\u001B[0m\u001B[0m\n\u001B[0m\u001B[0;32m   5488\u001B[0m \u001B[1;33m\u001B[0m\u001B[0m\n\u001B[0;32m   5489\u001B[0m     \u001B[1;32mdef\u001B[0m \u001B[0m__setattr__\u001B[0m\u001B[1;33m(\u001B[0m\u001B[0mself\u001B[0m\u001B[1;33m,\u001B[0m \u001B[0mname\u001B[0m\u001B[1;33m:\u001B[0m \u001B[0mstr\u001B[0m\u001B[1;33m,\u001B[0m \u001B[0mvalue\u001B[0m\u001B[1;33m)\u001B[0m \u001B[1;33m->\u001B[0m \u001B[1;32mNone\u001B[0m\u001B[1;33m:\u001B[0m\u001B[1;33m\u001B[0m\u001B[1;33m\u001B[0m\u001B[0m\n",
      "\u001B[1;31mAttributeError\u001B[0m: 'Series' object has no attribute 'to_datetime'"
     ]
    }
   ],
   "source": [
    "df['Date'].to_datetime()\n",
    "print(df)"
   ],
   "metadata": {
    "collapsed": false,
    "pycharm": {
     "name": "#%%\n"
    }
   }
  },
  {
   "cell_type": "code",
   "execution_count": null,
   "outputs": [],
   "source": [],
   "metadata": {
    "collapsed": false,
    "pycharm": {
     "name": "#%%\n"
    }
   }
  }
 ],
 "metadata": {
  "kernelspec": {
   "display_name": "Python 3",
   "language": "python",
   "name": "python3"
  },
  "language_info": {
   "codemirror_mode": {
    "name": "ipython",
    "version": 3
   },
   "file_extension": ".py",
   "mimetype": "text/x-python",
   "name": "python",
   "nbconvert_exporter": "python",
   "pygments_lexer": "ipython3",
   "version": "3.7.9"
  }
 },
 "nbformat": 4,
 "nbformat_minor": 4
}